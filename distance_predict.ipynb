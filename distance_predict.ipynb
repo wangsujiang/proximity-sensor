{
 "cells": [
  {
   "cell_type": "code",
   "execution_count": 2,
   "metadata": {
    "ExecuteTime": {
     "end_time": "2020-11-05T13:37:23.134444Z",
     "start_time": "2020-11-05T13:37:13.515902Z"
    }
   },
   "outputs": [],
   "source": [
    "# from abc import ABCMeta, abstractmethod\n",
    "\n",
    "import copy\n",
    "import heapq\n",
    "import logging\n",
    "import math\n",
    "import matplotlib.pyplot as plt\n",
    "import numpy as np\n",
    "import os\n",
    "import pandas as pd\n",
    "import pickle\n",
    "import random\n",
    "import re\n",
    "import seaborn as sns\n",
    "#import sknn\n",
    "import sys\n",
    "import time\n",
    "# import torch\n",
    "# import torch.nn as nn\n",
    "# import torch.nn.functional as fn\n",
    "import traceback\n",
    "import tsfresh as tsf\n",
    "\n",
    "from concurrent.futures import ThreadPoolExecutor\n",
    "from scipy.stats import  ttest_ind\n",
    "from multiprocessing import cpu_count\n",
    "from sklearn.cluster import KMeans, DBSCAN, AffinityPropagation\n",
    "from sklearn.ensemble import RandomForestClassifier, RandomForestRegressor, ExtraTreesClassifier\n",
    "from sklearn.experimental import enable_iterative_imputer\n",
    "from sklearn.decomposition import PCA\n",
    "from sklearn.feature_selection import SelectFromModel, VarianceThreshold\n",
    "from sklearn.gaussian_process import GaussianProcessRegressor\n",
    "from sklearn.gaussian_process.kernels import DotProduct, WhiteKernel, RationalQuadratic, Exponentiation, RBF\n",
    "from sklearn.kernel_approximation import RBFSampler\n",
    "from sklearn.impute import IterativeImputer, SimpleImputer\n",
    "from sklearn.linear_model import LinearRegression, SGDClassifier\n",
    "from sklearn.metrics import roc_auc_score, mean_absolute_error, accuracy_score, f1_score\n",
    "from sklearn.metrics.pairwise import cosine_similarity\n",
    "from sklearn.model_selection import train_test_split\n",
    "from sklearn.manifold import Isomap\n",
    "from sklearn.neural_network import MLPClassifier, MLPRegressor\n",
    "from sklearn.preprocessing import OneHotEncoder, LabelEncoder, StandardScaler, MinMaxScaler, PolynomialFeatures, QuantileTransformer, PowerTransformer\n",
    "from sklearn.svm import SVR, SVC, LinearSVC, LinearSVR\n",
    "#from sknn.ae import AutoEncoder, Layer\n",
    "from tqdm import tqdm\n",
    "# from torch.utils.data import DataLoader\n",
    "# from sklearn.gaussian_process import GaussianProcessRegressor\n",
    "#from sklearn.gaussian_process.kernels import DotProduct, WhiteKernel\n",
    "# pay attention to that, the iterative Imputer is not stable"
   ]
  },
  {
   "cell_type": "code",
   "execution_count": null,
   "metadata": {},
   "outputs": [],
   "source": []
  },
  {
   "cell_type": "markdown",
   "metadata": {},
   "source": [
    "# load data"
   ]
  },
  {
   "cell_type": "code",
   "execution_count": 3,
   "metadata": {
    "ExecuteTime": {
     "end_time": "2020-11-05T16:12:49.136648Z",
     "start_time": "2020-11-05T16:12:49.117618Z"
    }
   },
   "outputs": [],
   "source": [
    "def load_data(path, num):\n",
    "    df1 = pd.read_csv(path, sep = '\\t', header=None)\n",
    "    df1.columns = ['time', 'Pw', 'distance']\n",
    "    df1['sensor_nr'] = num\n",
    "    df1 = df1.dropna() #filter\n",
    "    #df1 = df1.fillna(method = 'backfill')\n",
    "    df1 = df1[df1['distance'] < 20]\n",
    "    df1 = df1[((df1['Pw'] < 50)&(df1['distance'] <10)).map(lambda x: not x)]\n",
    "    return df1"
   ]
  },
  {
   "cell_type": "code",
   "execution_count": 4,
   "metadata": {
    "ExecuteTime": {
     "end_time": "2020-11-05T16:12:50.404502Z",
     "start_time": "2020-11-05T16:12:50.379836Z"
    }
   },
   "outputs": [
    {
     "data": {
      "text/plain": [
       "['sensor8_RC_w_distance_03.csv',\n",
       " 'sensor8_RC_w_distance_04.csv',\n",
       " 'sensor8_RC_w_distance_05.csv',\n",
       " 'sensor8_RC_w_distance_06.csv',\n",
       " 'sensor8_RC_w_distance_07.csv',\n",
       " 'sensor8_RC_w_distance_08.csv',\n",
       " 'sensor8_RC_w_distance_09.csv']"
      ]
     },
     "execution_count": 4,
     "metadata": {},
     "output_type": "execute_result"
    }
   ],
   "source": [
    "df = []\n",
    "fns = [i for i in os.listdir('data') if 'distance' in i]\n",
    "fns"
   ]
  },
  {
   "cell_type": "code",
   "execution_count": 5,
   "metadata": {
    "ExecuteTime": {
     "end_time": "2020-11-05T16:12:50.843514Z",
     "start_time": "2020-11-05T16:12:50.534123Z"
    },
    "scrolled": true
   },
   "outputs": [
    {
     "name": "stdout",
     "output_type": "stream",
     "text": [
      "sensor8_RC_w_distance_03.csv\n",
      "sensor8_RC_w_distance_04.csv\n",
      "sensor8_RC_w_distance_05.csv\n",
      "sensor8_RC_w_distance_06.csv\n",
      "sensor8_RC_w_distance_07.csv\n",
      "sensor8_RC_w_distance_08.csv\n",
      "sensor8_RC_w_distance_09.csv\n"
     ]
    }
   ],
   "source": [
    "for i, j in enumerate(fns):\n",
    "    print(j)\n",
    "    df.append(load_data('data/' + j, i))\n",
    "    df[i] = df[i].reset_index(drop=True)"
   ]
  },
  {
   "cell_type": "code",
   "execution_count": 6,
   "metadata": {},
   "outputs": [
    {
     "data": {
      "text/html": [
       "<div>\n",
       "<style scoped>\n",
       "    .dataframe tbody tr th:only-of-type {\n",
       "        vertical-align: middle;\n",
       "    }\n",
       "\n",
       "    .dataframe tbody tr th {\n",
       "        vertical-align: top;\n",
       "    }\n",
       "\n",
       "    .dataframe thead th {\n",
       "        text-align: right;\n",
       "    }\n",
       "</style>\n",
       "<table border=\"1\" class=\"dataframe\">\n",
       "  <thead>\n",
       "    <tr style=\"text-align: right;\">\n",
       "      <th></th>\n",
       "      <th>time</th>\n",
       "      <th>Pw</th>\n",
       "      <th>distance</th>\n",
       "      <th>sensor_nr</th>\n",
       "    </tr>\n",
       "  </thead>\n",
       "  <tbody>\n",
       "    <tr>\n",
       "      <th>0</th>\n",
       "      <td>2122</td>\n",
       "      <td>160.0</td>\n",
       "      <td>5.0</td>\n",
       "      <td>1</td>\n",
       "    </tr>\n",
       "    <tr>\n",
       "      <th>1</th>\n",
       "      <td>2192</td>\n",
       "      <td>202.0</td>\n",
       "      <td>3.0</td>\n",
       "      <td>1</td>\n",
       "    </tr>\n",
       "    <tr>\n",
       "      <th>2</th>\n",
       "      <td>2222</td>\n",
       "      <td>226.0</td>\n",
       "      <td>3.0</td>\n",
       "      <td>1</td>\n",
       "    </tr>\n",
       "    <tr>\n",
       "      <th>3</th>\n",
       "      <td>2251</td>\n",
       "      <td>253.0</td>\n",
       "      <td>3.0</td>\n",
       "      <td>1</td>\n",
       "    </tr>\n",
       "    <tr>\n",
       "      <th>4</th>\n",
       "      <td>2281</td>\n",
       "      <td>274.0</td>\n",
       "      <td>2.0</td>\n",
       "      <td>1</td>\n",
       "    </tr>\n",
       "    <tr>\n",
       "      <th>...</th>\n",
       "      <td>...</td>\n",
       "      <td>...</td>\n",
       "      <td>...</td>\n",
       "      <td>...</td>\n",
       "    </tr>\n",
       "    <tr>\n",
       "      <th>2025</th>\n",
       "      <td>82587</td>\n",
       "      <td>70.0</td>\n",
       "      <td>1.0</td>\n",
       "      <td>1</td>\n",
       "    </tr>\n",
       "    <tr>\n",
       "      <th>2026</th>\n",
       "      <td>82617</td>\n",
       "      <td>62.0</td>\n",
       "      <td>1.0</td>\n",
       "      <td>1</td>\n",
       "    </tr>\n",
       "    <tr>\n",
       "      <th>2027</th>\n",
       "      <td>82647</td>\n",
       "      <td>63.0</td>\n",
       "      <td>1.0</td>\n",
       "      <td>1</td>\n",
       "    </tr>\n",
       "    <tr>\n",
       "      <th>2028</th>\n",
       "      <td>82676</td>\n",
       "      <td>55.0</td>\n",
       "      <td>1.0</td>\n",
       "      <td>1</td>\n",
       "    </tr>\n",
       "    <tr>\n",
       "      <th>2029</th>\n",
       "      <td>83472</td>\n",
       "      <td>0.0</td>\n",
       "      <td>10.0</td>\n",
       "      <td>1</td>\n",
       "    </tr>\n",
       "  </tbody>\n",
       "</table>\n",
       "<p>2030 rows × 4 columns</p>\n",
       "</div>"
      ],
      "text/plain": [
       "       time     Pw  distance  sensor_nr\n",
       "0      2122  160.0       5.0          1\n",
       "1      2192  202.0       3.0          1\n",
       "2      2222  226.0       3.0          1\n",
       "3      2251  253.0       3.0          1\n",
       "4      2281  274.0       2.0          1\n",
       "...     ...    ...       ...        ...\n",
       "2025  82587   70.0       1.0          1\n",
       "2026  82617   62.0       1.0          1\n",
       "2027  82647   63.0       1.0          1\n",
       "2028  82676   55.0       1.0          1\n",
       "2029  83472    0.0      10.0          1\n",
       "\n",
       "[2030 rows x 4 columns]"
      ]
     },
     "execution_count": 6,
     "metadata": {},
     "output_type": "execute_result"
    }
   ],
   "source": [
    "df[1]"
   ]
  },
  {
   "cell_type": "markdown",
   "metadata": {},
   "source": [
    "# Filter"
   ]
  },
  {
   "cell_type": "code",
   "execution_count": 6,
   "metadata": {
    "ExecuteTime": {
     "end_time": "2020-11-05T15:26:50.571444Z",
     "start_time": "2020-11-05T15:26:50.542149Z"
    }
   },
   "outputs": [],
   "source": [
    "# from scipy import signal"
   ]
  },
  {
   "cell_type": "code",
   "execution_count": 7,
   "metadata": {
    "ExecuteTime": {
     "end_time": "2020-11-05T15:26:50.744414Z",
     "start_time": "2020-11-05T15:26:50.726989Z"
    }
   },
   "outputs": [],
   "source": [
    "# b, a = signal.butter(8, 0.8, 'lowpass') "
   ]
  },
  {
   "cell_type": "code",
   "execution_count": 8,
   "metadata": {
    "ExecuteTime": {
     "end_time": "2020-11-05T15:26:51.215221Z",
     "start_time": "2020-11-05T15:26:51.194401Z"
    }
   },
   "outputs": [],
   "source": [
    "# for i in df:\n",
    "#     i['Pw'] = signal.filtfilt(b, a, i['Pw'])"
   ]
  },
  {
   "cell_type": "code",
   "execution_count": 9,
   "metadata": {},
   "outputs": [],
   "source": [
    "# df[0]"
   ]
  },
  {
   "cell_type": "code",
   "execution_count": 10,
   "metadata": {
    "ExecuteTime": {
     "end_time": "2020-11-05T15:27:12.753722Z",
     "start_time": "2020-11-05T15:27:09.161919Z"
    }
   },
   "outputs": [],
   "source": [
    "# train_model(df[0])"
   ]
  },
  {
   "cell_type": "markdown",
   "metadata": {},
   "source": [
    "# build model"
   ]
  },
  {
   "cell_type": "markdown",
   "metadata": {
    "ExecuteTime": {
     "end_time": "2020-11-05T14:07:42.746881Z",
     "start_time": "2020-11-05T14:07:42.737784Z"
    }
   },
   "source": [
    "## Simple model"
   ]
  },
  {
   "cell_type": "code",
   "execution_count": 7,
   "metadata": {
    "ExecuteTime": {
     "end_time": "2020-11-05T16:10:54.429385Z",
     "start_time": "2020-11-05T16:10:54.416110Z"
    }
   },
   "outputs": [],
   "source": [
    "def train_model(df):\n",
    "    #df = df[['Pw', 'sensor_nr', 'distance']]\n",
    "    ln = RandomForestRegressor()\n",
    "#    ln = SVR()\n",
    "    X_train, X_test, y_train, y_test = train_test_split(df.iloc[:, :-1], df.iloc[:, -1])\n",
    "    ln.fit(X_train, y_train)\n",
    "    pred = ln.predict(X_test)\n",
    "    return np.mean(abs(pred - y_test)), ln"
   ]
  },
  {
   "cell_type": "code",
   "execution_count": 12,
   "metadata": {
    "ExecuteTime": {
     "end_time": "2020-11-05T15:29:38.435416Z",
     "start_time": "2020-11-05T15:29:37.687179Z"
    },
    "scrolled": true
   },
   "outputs": [],
   "source": [
    "# for i in df:\n",
    "#     print(train_model(i)[0])"
   ]
  },
  {
   "cell_type": "markdown",
   "metadata": {},
   "source": [
    "# pickle"
   ]
  },
  {
   "cell_type": "code",
   "execution_count": 37,
   "metadata": {
    "ExecuteTime": {
     "end_time": "2020-11-05T15:34:50.419725Z",
     "start_time": "2020-11-05T15:34:50.396591Z"
    }
   },
   "outputs": [],
   "source": [
    "pickle.dump(model, open('data/svr.m', 'wb'))\n",
    "m = pickle.load(open('data/svr.m', 'rb'))\n",
    "# m.score(X_test, y_test)\n",
    "# pred = m.predict(X_test)"
   ]
  },
  {
   "cell_type": "markdown",
   "metadata": {},
   "source": [
    "## Time series prediction"
   ]
  },
  {
   "cell_type": "code",
   "execution_count": 13,
   "metadata": {
    "ExecuteTime": {
     "end_time": "2020-11-05T16:13:23.140383Z",
     "start_time": "2020-11-05T16:13:23.126543Z"
    }
   },
   "outputs": [],
   "source": [
    "df2 = df[2]"
   ]
  },
  {
   "cell_type": "code",
   "execution_count": 14,
   "metadata": {
    "ExecuteTime": {
     "end_time": "2020-11-05T16:13:23.363075Z",
     "start_time": "2020-11-05T16:13:23.351913Z"
    }
   },
   "outputs": [],
   "source": [
    "df2['time'] = df2['time'].astype(float)"
   ]
  },
  {
   "cell_type": "code",
   "execution_count": 15,
   "metadata": {
    "ExecuteTime": {
     "end_time": "2020-11-05T16:13:23.961884Z",
     "start_time": "2020-11-05T16:13:23.545887Z"
    }
   },
   "outputs": [
    {
     "data": {
      "text/plain": [
       "<matplotlib.axes._subplots.AxesSubplot at 0x22b707c3670>"
      ]
     },
     "execution_count": 15,
     "metadata": {},
     "output_type": "execute_result"
    },
    {
     "data": {
      "image/png": "[encoded data removed]",
      "text/plain": [
       "<Figure size 432x288 with 1 Axes>"
      ]
     },
     "metadata": {
      "needs_background": "light"
     },
     "output_type": "display_data"
    }
   ],
   "source": [
    "sns.scatterplot(x = range(len(df2)), y = df2['time'])"
   ]
  },
  {
   "cell_type": "code",
   "execution_count": 16,
   "metadata": {
    "ExecuteTime": {
     "end_time": "2020-11-05T16:13:24.019613Z",
     "start_time": "2020-11-05T16:13:23.972690Z"
    }
   },
   "outputs": [],
   "source": [
    "for i in range(200):\n",
    "    df2['Pw_s'+str(i)] = df2['Pw'].shift(i)"
   ]
  },
  {
   "cell_type": "code",
   "execution_count": 17,
   "metadata": {
    "ExecuteTime": {
     "end_time": "2020-11-05T16:13:24.138436Z",
     "start_time": "2020-11-05T16:13:24.120514Z"
    }
   },
   "outputs": [],
   "source": [
    "df2 = df2.fillna(method='bfill')"
   ]
  },
  {
   "cell_type": "code",
   "execution_count": 18,
   "metadata": {},
   "outputs": [
    {
     "data": {
      "text/plain": [
       "Index(['time', 'Pw', 'distance', 'sensor_nr', 'Pw_s0', 'Pw_s1', 'Pw_s2',\n",
       "       'Pw_s3', 'Pw_s4', 'Pw_s5',\n",
       "       ...\n",
       "       'Pw_s190', 'Pw_s191', 'Pw_s192', 'Pw_s193', 'Pw_s194', 'Pw_s195',\n",
       "       'Pw_s196', 'Pw_s197', 'Pw_s198', 'Pw_s199'],\n",
       "      dtype='object', length=204)"
      ]
     },
     "execution_count": 18,
     "metadata": {},
     "output_type": "execute_result"
    }
   ],
   "source": [
    "df2.columns"
   ]
  },
  {
   "cell_type": "code",
   "execution_count": 19,
   "metadata": {},
   "outputs": [],
   "source": [
    "cols = list(df2.columns)[4:]\n",
    "cols = [cols[i-1] for i in np.arange(len(cols), 0, -1)]\n",
    "# cols.append('ae')\n",
    "cols.append('distance')"
   ]
  },
  {
   "cell_type": "code",
   "execution_count": 20,
   "metadata": {},
   "outputs": [],
   "source": [
    "# ae = np.arange(len(df2))\n",
    "# for i in range(len(df2)):\n",
    "#     ae[i] = tsf.feature_extraction.feature_calculators.has_duplicate(df2.iloc[i,:])"
   ]
  },
  {
   "cell_type": "code",
   "execution_count": 21,
   "metadata": {},
   "outputs": [],
   "source": [
    "# ae = pd.Series(ae)\n",
    "# df2['ae'] = ae\n",
    "df2 = df2[cols]"
   ]
  },
  {
   "cell_type": "code",
   "execution_count": 22,
   "metadata": {
    "scrolled": true
   },
   "outputs": [
    {
     "data": {
      "text/plain": [
       "<matplotlib.axes._subplots.AxesSubplot at 0x22b708385e0>"
      ]
     },
     "execution_count": 22,
     "metadata": {},
     "output_type": "execute_result"
    },
    {
     "data": {
      "image/png": "[encoded data removed]",
      "text/plain": [
       "<Figure size 432x288 with 1 Axes>"
      ]
     },
     "metadata": {
      "needs_background": "light"
     },
     "output_type": "display_data"
    }
   ],
   "source": [
    " sns.scatterplot(y = df2.iloc[123, :], x = range(len(cols)))"
   ]
  },
  {
   "cell_type": "code",
   "execution_count": 23,
   "metadata": {
    "ExecuteTime": {
     "end_time": "2020-11-05T16:16:08.968367Z",
     "start_time": "2020-11-05T16:16:01.685551Z"
    },
    "scrolled": true
   },
   "outputs": [
    {
     "name": "stdout",
     "output_type": "stream",
     "text": [
      "0.5788630490956073\n",
      "0.6499741602067184\n",
      "0.5742635658914729\n",
      "0.5713953488372093\n",
      "0.5803100775193798\n",
      "0.5771576227390182\n",
      "0.6068217054263566\n",
      "0.6037726098191215\n",
      "0.5557364341085271\n",
      "0.5910594315245478\n"
     ]
    }
   ],
   "source": [
    "for i in range(10):\n",
    "    reward, model = train_model(df2.iloc[len(cols):, :])\n",
    "    print(reward)"
   ]
  },
  {
   "cell_type": "code",
   "execution_count": 24,
   "metadata": {
    "ExecuteTime": {
     "end_time": "2020-11-05T16:13:45.450662Z",
     "start_time": "2020-11-05T16:13:45.370924Z"
    },
    "scrolled": false
   },
   "outputs": [
    {
     "data": {
      "text/html": [
       "<div>\n",
       "<style scoped>\n",
       "    .dataframe tbody tr th:only-of-type {\n",
       "        vertical-align: middle;\n",
       "    }\n",
       "\n",
       "    .dataframe tbody tr th {\n",
       "        vertical-align: top;\n",
       "    }\n",
       "\n",
       "    .dataframe thead th {\n",
       "        text-align: right;\n",
       "    }\n",
       "</style>\n",
       "<table border=\"1\" class=\"dataframe\">\n",
       "  <thead>\n",
       "    <tr style=\"text-align: right;\">\n",
       "      <th></th>\n",
       "      <th>Pw_s199</th>\n",
       "      <th>Pw_s198</th>\n",
       "      <th>Pw_s197</th>\n",
       "      <th>Pw_s196</th>\n",
       "      <th>Pw_s195</th>\n",
       "      <th>Pw_s194</th>\n",
       "      <th>Pw_s193</th>\n",
       "      <th>Pw_s192</th>\n",
       "      <th>Pw_s191</th>\n",
       "      <th>Pw_s190</th>\n",
       "      <th>...</th>\n",
       "      <th>Pw_s8</th>\n",
       "      <th>Pw_s7</th>\n",
       "      <th>Pw_s6</th>\n",
       "      <th>Pw_s5</th>\n",
       "      <th>Pw_s4</th>\n",
       "      <th>Pw_s3</th>\n",
       "      <th>Pw_s2</th>\n",
       "      <th>Pw_s1</th>\n",
       "      <th>Pw_s0</th>\n",
       "      <th>distance</th>\n",
       "    </tr>\n",
       "  </thead>\n",
       "  <tbody>\n",
       "    <tr>\n",
       "      <th>1728</th>\n",
       "      <td>73.0</td>\n",
       "      <td>64.0</td>\n",
       "      <td>63.0</td>\n",
       "      <td>68.0</td>\n",
       "      <td>70.0</td>\n",
       "      <td>68.0</td>\n",
       "      <td>70.0</td>\n",
       "      <td>62.0</td>\n",
       "      <td>67.0</td>\n",
       "      <td>69.0</td>\n",
       "      <td>...</td>\n",
       "      <td>339.0</td>\n",
       "      <td>333.0</td>\n",
       "      <td>340.0</td>\n",
       "      <td>339.0</td>\n",
       "      <td>344.0</td>\n",
       "      <td>344.0</td>\n",
       "      <td>344.0</td>\n",
       "      <td>341.0</td>\n",
       "      <td>340.0</td>\n",
       "      <td>2.0</td>\n",
       "    </tr>\n",
       "    <tr>\n",
       "      <th>1729</th>\n",
       "      <td>64.0</td>\n",
       "      <td>63.0</td>\n",
       "      <td>68.0</td>\n",
       "      <td>70.0</td>\n",
       "      <td>68.0</td>\n",
       "      <td>70.0</td>\n",
       "      <td>62.0</td>\n",
       "      <td>67.0</td>\n",
       "      <td>69.0</td>\n",
       "      <td>75.0</td>\n",
       "      <td>...</td>\n",
       "      <td>333.0</td>\n",
       "      <td>340.0</td>\n",
       "      <td>339.0</td>\n",
       "      <td>344.0</td>\n",
       "      <td>344.0</td>\n",
       "      <td>344.0</td>\n",
       "      <td>341.0</td>\n",
       "      <td>340.0</td>\n",
       "      <td>333.0</td>\n",
       "      <td>2.0</td>\n",
       "    </tr>\n",
       "    <tr>\n",
       "      <th>1730</th>\n",
       "      <td>63.0</td>\n",
       "      <td>68.0</td>\n",
       "      <td>70.0</td>\n",
       "      <td>68.0</td>\n",
       "      <td>70.0</td>\n",
       "      <td>62.0</td>\n",
       "      <td>67.0</td>\n",
       "      <td>69.0</td>\n",
       "      <td>75.0</td>\n",
       "      <td>72.0</td>\n",
       "      <td>...</td>\n",
       "      <td>340.0</td>\n",
       "      <td>339.0</td>\n",
       "      <td>344.0</td>\n",
       "      <td>344.0</td>\n",
       "      <td>344.0</td>\n",
       "      <td>341.0</td>\n",
       "      <td>340.0</td>\n",
       "      <td>333.0</td>\n",
       "      <td>334.0</td>\n",
       "      <td>2.0</td>\n",
       "    </tr>\n",
       "    <tr>\n",
       "      <th>1731</th>\n",
       "      <td>68.0</td>\n",
       "      <td>70.0</td>\n",
       "      <td>68.0</td>\n",
       "      <td>70.0</td>\n",
       "      <td>62.0</td>\n",
       "      <td>67.0</td>\n",
       "      <td>69.0</td>\n",
       "      <td>75.0</td>\n",
       "      <td>72.0</td>\n",
       "      <td>68.0</td>\n",
       "      <td>...</td>\n",
       "      <td>339.0</td>\n",
       "      <td>344.0</td>\n",
       "      <td>344.0</td>\n",
       "      <td>344.0</td>\n",
       "      <td>341.0</td>\n",
       "      <td>340.0</td>\n",
       "      <td>333.0</td>\n",
       "      <td>334.0</td>\n",
       "      <td>330.0</td>\n",
       "      <td>2.0</td>\n",
       "    </tr>\n",
       "    <tr>\n",
       "      <th>1732</th>\n",
       "      <td>70.0</td>\n",
       "      <td>68.0</td>\n",
       "      <td>70.0</td>\n",
       "      <td>62.0</td>\n",
       "      <td>67.0</td>\n",
       "      <td>69.0</td>\n",
       "      <td>75.0</td>\n",
       "      <td>72.0</td>\n",
       "      <td>68.0</td>\n",
       "      <td>73.0</td>\n",
       "      <td>...</td>\n",
       "      <td>344.0</td>\n",
       "      <td>344.0</td>\n",
       "      <td>344.0</td>\n",
       "      <td>341.0</td>\n",
       "      <td>340.0</td>\n",
       "      <td>333.0</td>\n",
       "      <td>334.0</td>\n",
       "      <td>330.0</td>\n",
       "      <td>317.0</td>\n",
       "      <td>2.0</td>\n",
       "    </tr>\n",
       "    <tr>\n",
       "      <th>1733</th>\n",
       "      <td>68.0</td>\n",
       "      <td>70.0</td>\n",
       "      <td>62.0</td>\n",
       "      <td>67.0</td>\n",
       "      <td>69.0</td>\n",
       "      <td>75.0</td>\n",
       "      <td>72.0</td>\n",
       "      <td>68.0</td>\n",
       "      <td>73.0</td>\n",
       "      <td>77.0</td>\n",
       "      <td>...</td>\n",
       "      <td>344.0</td>\n",
       "      <td>344.0</td>\n",
       "      <td>341.0</td>\n",
       "      <td>340.0</td>\n",
       "      <td>333.0</td>\n",
       "      <td>334.0</td>\n",
       "      <td>330.0</td>\n",
       "      <td>317.0</td>\n",
       "      <td>306.0</td>\n",
       "      <td>2.0</td>\n",
       "    </tr>\n",
       "    <tr>\n",
       "      <th>1734</th>\n",
       "      <td>70.0</td>\n",
       "      <td>62.0</td>\n",
       "      <td>67.0</td>\n",
       "      <td>69.0</td>\n",
       "      <td>75.0</td>\n",
       "      <td>72.0</td>\n",
       "      <td>68.0</td>\n",
       "      <td>73.0</td>\n",
       "      <td>77.0</td>\n",
       "      <td>75.0</td>\n",
       "      <td>...</td>\n",
       "      <td>344.0</td>\n",
       "      <td>341.0</td>\n",
       "      <td>340.0</td>\n",
       "      <td>333.0</td>\n",
       "      <td>334.0</td>\n",
       "      <td>330.0</td>\n",
       "      <td>317.0</td>\n",
       "      <td>306.0</td>\n",
       "      <td>307.0</td>\n",
       "      <td>3.0</td>\n",
       "    </tr>\n",
       "    <tr>\n",
       "      <th>1735</th>\n",
       "      <td>62.0</td>\n",
       "      <td>67.0</td>\n",
       "      <td>69.0</td>\n",
       "      <td>75.0</td>\n",
       "      <td>72.0</td>\n",
       "      <td>68.0</td>\n",
       "      <td>73.0</td>\n",
       "      <td>77.0</td>\n",
       "      <td>75.0</td>\n",
       "      <td>80.0</td>\n",
       "      <td>...</td>\n",
       "      <td>341.0</td>\n",
       "      <td>340.0</td>\n",
       "      <td>333.0</td>\n",
       "      <td>334.0</td>\n",
       "      <td>330.0</td>\n",
       "      <td>317.0</td>\n",
       "      <td>306.0</td>\n",
       "      <td>307.0</td>\n",
       "      <td>294.0</td>\n",
       "      <td>3.0</td>\n",
       "    </tr>\n",
       "    <tr>\n",
       "      <th>1736</th>\n",
       "      <td>67.0</td>\n",
       "      <td>69.0</td>\n",
       "      <td>75.0</td>\n",
       "      <td>72.0</td>\n",
       "      <td>68.0</td>\n",
       "      <td>73.0</td>\n",
       "      <td>77.0</td>\n",
       "      <td>75.0</td>\n",
       "      <td>80.0</td>\n",
       "      <td>80.0</td>\n",
       "      <td>...</td>\n",
       "      <td>340.0</td>\n",
       "      <td>333.0</td>\n",
       "      <td>334.0</td>\n",
       "      <td>330.0</td>\n",
       "      <td>317.0</td>\n",
       "      <td>306.0</td>\n",
       "      <td>307.0</td>\n",
       "      <td>294.0</td>\n",
       "      <td>295.0</td>\n",
       "      <td>3.0</td>\n",
       "    </tr>\n",
       "    <tr>\n",
       "      <th>1737</th>\n",
       "      <td>69.0</td>\n",
       "      <td>75.0</td>\n",
       "      <td>72.0</td>\n",
       "      <td>68.0</td>\n",
       "      <td>73.0</td>\n",
       "      <td>77.0</td>\n",
       "      <td>75.0</td>\n",
       "      <td>80.0</td>\n",
       "      <td>80.0</td>\n",
       "      <td>80.0</td>\n",
       "      <td>...</td>\n",
       "      <td>333.0</td>\n",
       "      <td>334.0</td>\n",
       "      <td>330.0</td>\n",
       "      <td>317.0</td>\n",
       "      <td>306.0</td>\n",
       "      <td>307.0</td>\n",
       "      <td>294.0</td>\n",
       "      <td>295.0</td>\n",
       "      <td>286.0</td>\n",
       "      <td>2.0</td>\n",
       "    </tr>\n",
       "    <tr>\n",
       "      <th>1738</th>\n",
       "      <td>75.0</td>\n",
       "      <td>72.0</td>\n",
       "      <td>68.0</td>\n",
       "      <td>73.0</td>\n",
       "      <td>77.0</td>\n",
       "      <td>75.0</td>\n",
       "      <td>80.0</td>\n",
       "      <td>80.0</td>\n",
       "      <td>80.0</td>\n",
       "      <td>88.0</td>\n",
       "      <td>...</td>\n",
       "      <td>334.0</td>\n",
       "      <td>330.0</td>\n",
       "      <td>317.0</td>\n",
       "      <td>306.0</td>\n",
       "      <td>307.0</td>\n",
       "      <td>294.0</td>\n",
       "      <td>295.0</td>\n",
       "      <td>286.0</td>\n",
       "      <td>279.0</td>\n",
       "      <td>3.0</td>\n",
       "    </tr>\n",
       "    <tr>\n",
       "      <th>1739</th>\n",
       "      <td>72.0</td>\n",
       "      <td>68.0</td>\n",
       "      <td>73.0</td>\n",
       "      <td>77.0</td>\n",
       "      <td>75.0</td>\n",
       "      <td>80.0</td>\n",
       "      <td>80.0</td>\n",
       "      <td>80.0</td>\n",
       "      <td>88.0</td>\n",
       "      <td>80.0</td>\n",
       "      <td>...</td>\n",
       "      <td>330.0</td>\n",
       "      <td>317.0</td>\n",
       "      <td>306.0</td>\n",
       "      <td>307.0</td>\n",
       "      <td>294.0</td>\n",
       "      <td>295.0</td>\n",
       "      <td>286.0</td>\n",
       "      <td>279.0</td>\n",
       "      <td>270.0</td>\n",
       "      <td>5.0</td>\n",
       "    </tr>\n",
       "    <tr>\n",
       "      <th>1740</th>\n",
       "      <td>68.0</td>\n",
       "      <td>73.0</td>\n",
       "      <td>77.0</td>\n",
       "      <td>75.0</td>\n",
       "      <td>80.0</td>\n",
       "      <td>80.0</td>\n",
       "      <td>80.0</td>\n",
       "      <td>88.0</td>\n",
       "      <td>80.0</td>\n",
       "      <td>92.0</td>\n",
       "      <td>...</td>\n",
       "      <td>317.0</td>\n",
       "      <td>306.0</td>\n",
       "      <td>307.0</td>\n",
       "      <td>294.0</td>\n",
       "      <td>295.0</td>\n",
       "      <td>286.0</td>\n",
       "      <td>279.0</td>\n",
       "      <td>270.0</td>\n",
       "      <td>261.0</td>\n",
       "      <td>4.0</td>\n",
       "    </tr>\n",
       "    <tr>\n",
       "      <th>1741</th>\n",
       "      <td>73.0</td>\n",
       "      <td>77.0</td>\n",
       "      <td>75.0</td>\n",
       "      <td>80.0</td>\n",
       "      <td>80.0</td>\n",
       "      <td>80.0</td>\n",
       "      <td>88.0</td>\n",
       "      <td>80.0</td>\n",
       "      <td>92.0</td>\n",
       "      <td>93.0</td>\n",
       "      <td>...</td>\n",
       "      <td>306.0</td>\n",
       "      <td>307.0</td>\n",
       "      <td>294.0</td>\n",
       "      <td>295.0</td>\n",
       "      <td>286.0</td>\n",
       "      <td>279.0</td>\n",
       "      <td>270.0</td>\n",
       "      <td>261.0</td>\n",
       "      <td>244.0</td>\n",
       "      <td>2.0</td>\n",
       "    </tr>\n",
       "    <tr>\n",
       "      <th>1742</th>\n",
       "      <td>77.0</td>\n",
       "      <td>75.0</td>\n",
       "      <td>80.0</td>\n",
       "      <td>80.0</td>\n",
       "      <td>80.0</td>\n",
       "      <td>88.0</td>\n",
       "      <td>80.0</td>\n",
       "      <td>92.0</td>\n",
       "      <td>93.0</td>\n",
       "      <td>97.0</td>\n",
       "      <td>...</td>\n",
       "      <td>307.0</td>\n",
       "      <td>294.0</td>\n",
       "      <td>295.0</td>\n",
       "      <td>286.0</td>\n",
       "      <td>279.0</td>\n",
       "      <td>270.0</td>\n",
       "      <td>261.0</td>\n",
       "      <td>244.0</td>\n",
       "      <td>229.0</td>\n",
       "      <td>2.0</td>\n",
       "    </tr>\n",
       "    <tr>\n",
       "      <th>1743</th>\n",
       "      <td>75.0</td>\n",
       "      <td>80.0</td>\n",
       "      <td>80.0</td>\n",
       "      <td>80.0</td>\n",
       "      <td>88.0</td>\n",
       "      <td>80.0</td>\n",
       "      <td>92.0</td>\n",
       "      <td>93.0</td>\n",
       "      <td>97.0</td>\n",
       "      <td>89.0</td>\n",
       "      <td>...</td>\n",
       "      <td>294.0</td>\n",
       "      <td>295.0</td>\n",
       "      <td>286.0</td>\n",
       "      <td>279.0</td>\n",
       "      <td>270.0</td>\n",
       "      <td>261.0</td>\n",
       "      <td>244.0</td>\n",
       "      <td>229.0</td>\n",
       "      <td>207.0</td>\n",
       "      <td>2.0</td>\n",
       "    </tr>\n",
       "    <tr>\n",
       "      <th>1744</th>\n",
       "      <td>80.0</td>\n",
       "      <td>80.0</td>\n",
       "      <td>80.0</td>\n",
       "      <td>88.0</td>\n",
       "      <td>80.0</td>\n",
       "      <td>92.0</td>\n",
       "      <td>93.0</td>\n",
       "      <td>97.0</td>\n",
       "      <td>89.0</td>\n",
       "      <td>106.0</td>\n",
       "      <td>...</td>\n",
       "      <td>295.0</td>\n",
       "      <td>286.0</td>\n",
       "      <td>279.0</td>\n",
       "      <td>270.0</td>\n",
       "      <td>261.0</td>\n",
       "      <td>244.0</td>\n",
       "      <td>229.0</td>\n",
       "      <td>207.0</td>\n",
       "      <td>190.0</td>\n",
       "      <td>2.0</td>\n",
       "    </tr>\n",
       "    <tr>\n",
       "      <th>1745</th>\n",
       "      <td>80.0</td>\n",
       "      <td>80.0</td>\n",
       "      <td>88.0</td>\n",
       "      <td>80.0</td>\n",
       "      <td>92.0</td>\n",
       "      <td>93.0</td>\n",
       "      <td>97.0</td>\n",
       "      <td>89.0</td>\n",
       "      <td>106.0</td>\n",
       "      <td>97.0</td>\n",
       "      <td>...</td>\n",
       "      <td>286.0</td>\n",
       "      <td>279.0</td>\n",
       "      <td>270.0</td>\n",
       "      <td>261.0</td>\n",
       "      <td>244.0</td>\n",
       "      <td>229.0</td>\n",
       "      <td>207.0</td>\n",
       "      <td>190.0</td>\n",
       "      <td>162.0</td>\n",
       "      <td>4.0</td>\n",
       "    </tr>\n",
       "    <tr>\n",
       "      <th>1746</th>\n",
       "      <td>80.0</td>\n",
       "      <td>88.0</td>\n",
       "      <td>80.0</td>\n",
       "      <td>92.0</td>\n",
       "      <td>93.0</td>\n",
       "      <td>97.0</td>\n",
       "      <td>89.0</td>\n",
       "      <td>106.0</td>\n",
       "      <td>97.0</td>\n",
       "      <td>106.0</td>\n",
       "      <td>...</td>\n",
       "      <td>279.0</td>\n",
       "      <td>270.0</td>\n",
       "      <td>261.0</td>\n",
       "      <td>244.0</td>\n",
       "      <td>229.0</td>\n",
       "      <td>207.0</td>\n",
       "      <td>190.0</td>\n",
       "      <td>162.0</td>\n",
       "      <td>141.0</td>\n",
       "      <td>4.0</td>\n",
       "    </tr>\n",
       "    <tr>\n",
       "      <th>1747</th>\n",
       "      <td>88.0</td>\n",
       "      <td>80.0</td>\n",
       "      <td>92.0</td>\n",
       "      <td>93.0</td>\n",
       "      <td>97.0</td>\n",
       "      <td>89.0</td>\n",
       "      <td>106.0</td>\n",
       "      <td>97.0</td>\n",
       "      <td>106.0</td>\n",
       "      <td>104.0</td>\n",
       "      <td>...</td>\n",
       "      <td>270.0</td>\n",
       "      <td>261.0</td>\n",
       "      <td>244.0</td>\n",
       "      <td>229.0</td>\n",
       "      <td>207.0</td>\n",
       "      <td>190.0</td>\n",
       "      <td>162.0</td>\n",
       "      <td>141.0</td>\n",
       "      <td>43.0</td>\n",
       "      <td>12.0</td>\n",
       "    </tr>\n",
       "  </tbody>\n",
       "</table>\n",
       "<p>20 rows × 201 columns</p>\n",
       "</div>"
      ],
      "text/plain": [
       "      Pw_s199  Pw_s198  Pw_s197  Pw_s196  Pw_s195  Pw_s194  Pw_s193  Pw_s192  \\\n",
       "1728     73.0     64.0     63.0     68.0     70.0     68.0     70.0     62.0   \n",
       "1729     64.0     63.0     68.0     70.0     68.0     70.0     62.0     67.0   \n",
       "1730     63.0     68.0     70.0     68.0     70.0     62.0     67.0     69.0   \n",
       "1731     68.0     70.0     68.0     70.0     62.0     67.0     69.0     75.0   \n",
       "1732     70.0     68.0     70.0     62.0     67.0     69.0     75.0     72.0   \n",
       "1733     68.0     70.0     62.0     67.0     69.0     75.0     72.0     68.0   \n",
       "1734     70.0     62.0     67.0     69.0     75.0     72.0     68.0     73.0   \n",
       "1735     62.0     67.0     69.0     75.0     72.0     68.0     73.0     77.0   \n",
       "1736     67.0     69.0     75.0     72.0     68.0     73.0     77.0     75.0   \n",
       "1737     69.0     75.0     72.0     68.0     73.0     77.0     75.0     80.0   \n",
       "1738     75.0     72.0     68.0     73.0     77.0     75.0     80.0     80.0   \n",
       "1739     72.0     68.0     73.0     77.0     75.0     80.0     80.0     80.0   \n",
       "1740     68.0     73.0     77.0     75.0     80.0     80.0     80.0     88.0   \n",
       "1741     73.0     77.0     75.0     80.0     80.0     80.0     88.0     80.0   \n",
       "1742     77.0     75.0     80.0     80.0     80.0     88.0     80.0     92.0   \n",
       "1743     75.0     80.0     80.0     80.0     88.0     80.0     92.0     93.0   \n",
       "1744     80.0     80.0     80.0     88.0     80.0     92.0     93.0     97.0   \n",
       "1745     80.0     80.0     88.0     80.0     92.0     93.0     97.0     89.0   \n",
       "1746     80.0     88.0     80.0     92.0     93.0     97.0     89.0    106.0   \n",
       "1747     88.0     80.0     92.0     93.0     97.0     89.0    106.0     97.0   \n",
       "\n",
       "      Pw_s191  Pw_s190  ...  Pw_s8  Pw_s7  Pw_s6  Pw_s5  Pw_s4  Pw_s3  Pw_s2  \\\n",
       "1728     67.0     69.0  ...  339.0  333.0  340.0  339.0  344.0  344.0  344.0   \n",
       "1729     69.0     75.0  ...  333.0  340.0  339.0  344.0  344.0  344.0  341.0   \n",
       "1730     75.0     72.0  ...  340.0  339.0  344.0  344.0  344.0  341.0  340.0   \n",
       "1731     72.0     68.0  ...  339.0  344.0  344.0  344.0  341.0  340.0  333.0   \n",
       "1732     68.0     73.0  ...  344.0  344.0  344.0  341.0  340.0  333.0  334.0   \n",
       "1733     73.0     77.0  ...  344.0  344.0  341.0  340.0  333.0  334.0  330.0   \n",
       "1734     77.0     75.0  ...  344.0  341.0  340.0  333.0  334.0  330.0  317.0   \n",
       "1735     75.0     80.0  ...  341.0  340.0  333.0  334.0  330.0  317.0  306.0   \n",
       "1736     80.0     80.0  ...  340.0  333.0  334.0  330.0  317.0  306.0  307.0   \n",
       "1737     80.0     80.0  ...  333.0  334.0  330.0  317.0  306.0  307.0  294.0   \n",
       "1738     80.0     88.0  ...  334.0  330.0  317.0  306.0  307.0  294.0  295.0   \n",
       "1739     88.0     80.0  ...  330.0  317.0  306.0  307.0  294.0  295.0  286.0   \n",
       "1740     80.0     92.0  ...  317.0  306.0  307.0  294.0  295.0  286.0  279.0   \n",
       "1741     92.0     93.0  ...  306.0  307.0  294.0  295.0  286.0  279.0  270.0   \n",
       "1742     93.0     97.0  ...  307.0  294.0  295.0  286.0  279.0  270.0  261.0   \n",
       "1743     97.0     89.0  ...  294.0  295.0  286.0  279.0  270.0  261.0  244.0   \n",
       "1744     89.0    106.0  ...  295.0  286.0  279.0  270.0  261.0  244.0  229.0   \n",
       "1745    106.0     97.0  ...  286.0  279.0  270.0  261.0  244.0  229.0  207.0   \n",
       "1746     97.0    106.0  ...  279.0  270.0  261.0  244.0  229.0  207.0  190.0   \n",
       "1747    106.0    104.0  ...  270.0  261.0  244.0  229.0  207.0  190.0  162.0   \n",
       "\n",
       "      Pw_s1  Pw_s0  distance  \n",
       "1728  341.0  340.0       2.0  \n",
       "1729  340.0  333.0       2.0  \n",
       "1730  333.0  334.0       2.0  \n",
       "1731  334.0  330.0       2.0  \n",
       "1732  330.0  317.0       2.0  \n",
       "1733  317.0  306.0       2.0  \n",
       "1734  306.0  307.0       3.0  \n",
       "1735  307.0  294.0       3.0  \n",
       "1736  294.0  295.0       3.0  \n",
       "1737  295.0  286.0       2.0  \n",
       "1738  286.0  279.0       3.0  \n",
       "1739  279.0  270.0       5.0  \n",
       "1740  270.0  261.0       4.0  \n",
       "1741  261.0  244.0       2.0  \n",
       "1742  244.0  229.0       2.0  \n",
       "1743  229.0  207.0       2.0  \n",
       "1744  207.0  190.0       2.0  \n",
       "1745  190.0  162.0       4.0  \n",
       "1746  162.0  141.0       4.0  \n",
       "1747  141.0   43.0      12.0  \n",
       "\n",
       "[20 rows x 201 columns]"
      ]
     },
     "execution_count": 24,
     "metadata": {},
     "output_type": "execute_result"
    }
   ],
   "source": [
    "df2.tail(20)"
   ]
  },
  {
   "cell_type": "code",
   "execution_count": 18,
   "metadata": {},
   "outputs": [],
   "source": [
    "pickle.dump(model, open('data/svr.m', 'wb'))\n",
    "m = pickle.load(open('data/svr.m', 'rb'))\n",
    "# m.score(X_test, y_test)\n",
    "# pred = m.predict(X_test)"
   ]
  },
  {
   "cell_type": "code",
   "execution_count": 29,
   "metadata": {},
   "outputs": [
    {
     "ename": "AttributeError",
     "evalue": "'Series' object has no attribute 'reshape'",
     "output_type": "error",
     "traceback": [
      "\u001b[1;31m---------------------------------------------------------------------------\u001b[0m",
      "\u001b[1;31mAttributeError\u001b[0m                            Traceback (most recent call last)",
      "\u001b[1;32m<ipython-input-29-faa640f59c6c>\u001b[0m in \u001b[0;36m<module>\u001b[1;34m\u001b[0m\n\u001b[1;32m----> 1\u001b[1;33m \u001b[0mdf2\u001b[0m\u001b[1;33m.\u001b[0m\u001b[0miloc\u001b[0m\u001b[1;33m[\u001b[0m\u001b[1;36m100\u001b[0m\u001b[1;33m,\u001b[0m\u001b[1;33m:\u001b[0m\u001b[1;33m-\u001b[0m\u001b[1;36m1\u001b[0m\u001b[1;33m]\u001b[0m\u001b[1;33m.\u001b[0m\u001b[0mreshape\u001b[0m\u001b[1;33m(\u001b[0m\u001b[1;36m1\u001b[0m\u001b[1;33m,\u001b[0m\u001b[1;33m-\u001b[0m\u001b[1;36m1\u001b[0m\u001b[1;33m)\u001b[0m\u001b[1;33m\u001b[0m\u001b[1;33m\u001b[0m\u001b[0m\n\u001b[0m",
      "\u001b[1;32mD:\\ProgramData\\Anaconda3\\envs\\wangsj\\lib\\site-packages\\pandas\\core\\generic.py\u001b[0m in \u001b[0;36m__getattr__\u001b[1;34m(self, name)\u001b[0m\n\u001b[0;32m   5137\u001b[0m             \u001b[1;32mif\u001b[0m \u001b[0mself\u001b[0m\u001b[1;33m.\u001b[0m\u001b[0m_info_axis\u001b[0m\u001b[1;33m.\u001b[0m\u001b[0m_can_hold_identifiers_and_holds_name\u001b[0m\u001b[1;33m(\u001b[0m\u001b[0mname\u001b[0m\u001b[1;33m)\u001b[0m\u001b[1;33m:\u001b[0m\u001b[1;33m\u001b[0m\u001b[1;33m\u001b[0m\u001b[0m\n\u001b[0;32m   5138\u001b[0m                 \u001b[1;32mreturn\u001b[0m \u001b[0mself\u001b[0m\u001b[1;33m[\u001b[0m\u001b[0mname\u001b[0m\u001b[1;33m]\u001b[0m\u001b[1;33m\u001b[0m\u001b[1;33m\u001b[0m\u001b[0m\n\u001b[1;32m-> 5139\u001b[1;33m             \u001b[1;32mreturn\u001b[0m \u001b[0mobject\u001b[0m\u001b[1;33m.\u001b[0m\u001b[0m__getattribute__\u001b[0m\u001b[1;33m(\u001b[0m\u001b[0mself\u001b[0m\u001b[1;33m,\u001b[0m \u001b[0mname\u001b[0m\u001b[1;33m)\u001b[0m\u001b[1;33m\u001b[0m\u001b[1;33m\u001b[0m\u001b[0m\n\u001b[0m\u001b[0;32m   5140\u001b[0m \u001b[1;33m\u001b[0m\u001b[0m\n\u001b[0;32m   5141\u001b[0m     \u001b[1;32mdef\u001b[0m \u001b[0m__setattr__\u001b[0m\u001b[1;33m(\u001b[0m\u001b[0mself\u001b[0m\u001b[1;33m,\u001b[0m \u001b[0mname\u001b[0m\u001b[1;33m:\u001b[0m \u001b[0mstr\u001b[0m\u001b[1;33m,\u001b[0m \u001b[0mvalue\u001b[0m\u001b[1;33m)\u001b[0m \u001b[1;33m->\u001b[0m \u001b[1;32mNone\u001b[0m\u001b[1;33m:\u001b[0m\u001b[1;33m\u001b[0m\u001b[1;33m\u001b[0m\u001b[0m\n",
      "\u001b[1;31mAttributeError\u001b[0m: 'Series' object has no attribute 'reshape'"
     ]
    }
   ],
   "source": [
    "df2.iloc[100,:-1].reshape(1,-1)"
   ]
  },
  {
   "cell_type": "code",
   "execution_count": 27,
   "metadata": {},
   "outputs": [
    {
     "ename": "AttributeError",
     "evalue": "'Series' object has no attribute 'reshape'",
     "output_type": "error",
     "traceback": [
      "\u001b[1;31m---------------------------------------------------------------------------\u001b[0m",
      "\u001b[1;31mAttributeError\u001b[0m                            Traceback (most recent call last)",
      "\u001b[1;32m<ipython-input-27-e2df20035bc0>\u001b[0m in \u001b[0;36m<module>\u001b[1;34m\u001b[0m\n\u001b[1;32m----> 1\u001b[1;33m \u001b[0ma\u001b[0m\u001b[1;33m.\u001b[0m\u001b[0mreshape\u001b[0m\u001b[1;33m(\u001b[0m\u001b[1;36m1\u001b[0m\u001b[1;33m,\u001b[0m\u001b[1;33m-\u001b[0m\u001b[1;36m1\u001b[0m\u001b[1;33m)\u001b[0m\u001b[1;33m\u001b[0m\u001b[1;33m\u001b[0m\u001b[0m\n\u001b[0m",
      "\u001b[1;32mD:\\ProgramData\\Anaconda3\\envs\\wangsj\\lib\\site-packages\\pandas\\core\\generic.py\u001b[0m in \u001b[0;36m__getattr__\u001b[1;34m(self, name)\u001b[0m\n\u001b[0;32m   5137\u001b[0m             \u001b[1;32mif\u001b[0m \u001b[0mself\u001b[0m\u001b[1;33m.\u001b[0m\u001b[0m_info_axis\u001b[0m\u001b[1;33m.\u001b[0m\u001b[0m_can_hold_identifiers_and_holds_name\u001b[0m\u001b[1;33m(\u001b[0m\u001b[0mname\u001b[0m\u001b[1;33m)\u001b[0m\u001b[1;33m:\u001b[0m\u001b[1;33m\u001b[0m\u001b[1;33m\u001b[0m\u001b[0m\n\u001b[0;32m   5138\u001b[0m                 \u001b[1;32mreturn\u001b[0m \u001b[0mself\u001b[0m\u001b[1;33m[\u001b[0m\u001b[0mname\u001b[0m\u001b[1;33m]\u001b[0m\u001b[1;33m\u001b[0m\u001b[1;33m\u001b[0m\u001b[0m\n\u001b[1;32m-> 5139\u001b[1;33m             \u001b[1;32mreturn\u001b[0m \u001b[0mobject\u001b[0m\u001b[1;33m.\u001b[0m\u001b[0m__getattribute__\u001b[0m\u001b[1;33m(\u001b[0m\u001b[0mself\u001b[0m\u001b[1;33m,\u001b[0m \u001b[0mname\u001b[0m\u001b[1;33m)\u001b[0m\u001b[1;33m\u001b[0m\u001b[1;33m\u001b[0m\u001b[0m\n\u001b[0m\u001b[0;32m   5140\u001b[0m \u001b[1;33m\u001b[0m\u001b[0m\n\u001b[0;32m   5141\u001b[0m     \u001b[1;32mdef\u001b[0m \u001b[0m__setattr__\u001b[0m\u001b[1;33m(\u001b[0m\u001b[0mself\u001b[0m\u001b[1;33m,\u001b[0m \u001b[0mname\u001b[0m\u001b[1;33m:\u001b[0m \u001b[0mstr\u001b[0m\u001b[1;33m,\u001b[0m \u001b[0mvalue\u001b[0m\u001b[1;33m)\u001b[0m \u001b[1;33m->\u001b[0m \u001b[1;32mNone\u001b[0m\u001b[1;33m:\u001b[0m\u001b[1;33m\u001b[0m\u001b[1;33m\u001b[0m\u001b[0m\n",
      "\u001b[1;31mAttributeError\u001b[0m: 'Series' object has no attribute 'reshape'"
     ]
    }
   ],
   "source": [
    "a.reshape(1,-1)"
   ]
  },
  {
   "cell_type": "code",
   "execution_count": 22,
   "metadata": {},
   "outputs": [],
   "source": [
    "pred = m.predict(df2.iloc[:,:-1])"
   ]
  },
  {
   "cell_type": "code",
   "execution_count": 23,
   "metadata": {},
   "outputs": [
    {
     "data": {
      "text/plain": [
       "array([10.86, 10.66, 10.29, ...,  4.28,  4.27,  9.73])"
      ]
     },
     "execution_count": 23,
     "metadata": {},
     "output_type": "execute_result"
    }
   ],
   "source": [
    "pred"
   ]
  },
  {
   "cell_type": "markdown",
   "metadata": {},
   "source": [
    "# Plot"
   ]
  },
  {
   "cell_type": "code",
   "execution_count": 26,
   "metadata": {
    "ExecuteTime": {
     "end_time": "2020-11-05T14:25:27.312049Z",
     "start_time": "2020-11-05T14:25:27.270152Z"
    }
   },
   "outputs": [
    {
     "ename": "NameError",
     "evalue": "name 'df1' is not defined",
     "output_type": "error",
     "traceback": [
      "\u001b[1;31m---------------------------------------------------------------------------\u001b[0m",
      "\u001b[1;31mNameError\u001b[0m                                 Traceback (most recent call last)",
      "\u001b[1;32m<ipython-input-26-eda2b5cc1a42>\u001b[0m in \u001b[0;36m<module>\u001b[1;34m\u001b[0m\n\u001b[1;32m----> 1\u001b[1;33m \u001b[0mdf1\u001b[0m\u001b[1;33m.\u001b[0m\u001b[0mhead\u001b[0m\u001b[1;33m(\u001b[0m\u001b[1;33m)\u001b[0m\u001b[1;33m\u001b[0m\u001b[1;33m\u001b[0m\u001b[0m\n\u001b[0m",
      "\u001b[1;31mNameError\u001b[0m: name 'df1' is not defined"
     ]
    }
   ],
   "source": [
    "df1.head()"
   ]
  },
  {
   "cell_type": "code",
   "execution_count": null,
   "metadata": {
    "ExecuteTime": {
     "end_time": "2020-11-05T14:25:01.654392Z",
     "start_time": "2020-11-05T14:25:01.637264Z"
    }
   },
   "outputs": [],
   "source": [
    "import seaborn as sns"
   ]
  },
  {
   "cell_type": "code",
   "execution_count": null,
   "metadata": {
    "ExecuteTime": {
     "end_time": "2020-11-05T15:48:22.685852Z",
     "start_time": "2020-11-05T15:48:22.335405Z"
    }
   },
   "outputs": [],
   "source": [
    "sns.scatterplot(y = df[0]['distance'], x = df[0]['Pw'])"
   ]
  },
  {
   "cell_type": "code",
   "execution_count": null,
   "metadata": {
    "ExecuteTime": {
     "end_time": "2020-11-05T15:20:52.966802Z",
     "start_time": "2020-11-05T15:20:52.591244Z"
    }
   },
   "outputs": [],
   "source": [
    "sns.scatterplot(x = range(len(df[0])), y = df[0]['Pw'])\n",
    "sns.scatterplot(x = range(len(df[0])), y = df[0]['distance'])"
   ]
  },
  {
   "cell_type": "code",
   "execution_count": null,
   "metadata": {
    "ExecuteTime": {
     "end_time": "2020-11-05T15:12:28.170625Z",
     "start_time": "2020-11-05T15:12:27.869173Z"
    }
   },
   "outputs": [],
   "source": [
    "sns.scatterplot(x = range(len(df[0])), y = df[0]['distance'])"
   ]
  },
  {
   "cell_type": "code",
   "execution_count": null,
   "metadata": {
    "ExecuteTime": {
     "end_time": "2020-11-05T15:12:16.653386Z",
     "start_time": "2020-11-05T15:12:16.623162Z"
    }
   },
   "outputs": [],
   "source": [
    "df[0]"
   ]
  },
  {
   "cell_type": "code",
   "execution_count": 31,
   "metadata": {},
   "outputs": [
    {
     "ename": "TypeError",
     "evalue": "data type not understood",
     "output_type": "error",
     "traceback": [
      "\u001b[1;31m---------------------------------------------------------------------------\u001b[0m",
      "\u001b[1;31mTypeError\u001b[0m                                 Traceback (most recent call last)",
      "\u001b[1;32m<ipython-input-31-b1e011a54a34>\u001b[0m in \u001b[0;36m<module>\u001b[1;34m\u001b[0m\n\u001b[1;32m----> 1\u001b[1;33m \u001b[0mpw12\u001b[0m \u001b[1;33m=\u001b[0m \u001b[0mnp\u001b[0m\u001b[1;33m.\u001b[0m\u001b[0mzeros\u001b[0m\u001b[1;33m(\u001b[0m\u001b[1;36m50\u001b[0m\u001b[1;33m,\u001b[0m\u001b[1;36m1\u001b[0m\u001b[1;33m)\u001b[0m\u001b[1;33m\u001b[0m\u001b[1;33m\u001b[0m\u001b[0m\n\u001b[0m",
      "\u001b[1;31mTypeError\u001b[0m: data type not understood"
     ]
    }
   ],
   "source": [
    "pw12 = np.zeros(50,1)"
   ]
  },
  {
   "cell_type": "code",
   "execution_count": 24,
   "metadata": {},
   "outputs": [],
   "source": [
    "pw12[1] = 3"
   ]
  },
  {
   "cell_type": "code",
   "execution_count": 25,
   "metadata": {},
   "outputs": [
    {
     "data": {
      "text/plain": [
       "array([0., 3., 0., 0., 0., 0., 0., 0., 0., 0., 0., 0., 0., 0., 0., 0., 0.,\n",
       "       0., 0., 0., 0., 0., 0., 0., 0., 0., 0., 0., 0., 0., 0., 0., 0., 0.,\n",
       "       0., 0., 0., 0., 0., 0., 0., 0., 0., 0., 0., 0., 0., 0., 0., 0.])"
      ]
     },
     "execution_count": 25,
     "metadata": {},
     "output_type": "execute_result"
    }
   ],
   "source": [
    "pw12"
   ]
  },
  {
   "cell_type": "code",
   "execution_count": 29,
   "metadata": {
    "ExecuteTime": {
     "end_time": "2020-11-05T14:38:30.344802Z",
     "start_time": "2020-11-05T14:38:17.858833Z"
    }
   },
   "outputs": [],
   "source": [
    "pw12 = pw12.transpose()"
   ]
  },
  {
   "cell_type": "code",
   "execution_count": 34,
   "metadata": {},
   "outputs": [],
   "source": [
    "pw12 = pw12.reshape(1,50)"
   ]
  },
  {
   "cell_type": "code",
   "execution_count": 36,
   "metadata": {},
   "outputs": [
    {
     "data": {
      "text/plain": [
       "(1, 50)"
      ]
     },
     "execution_count": 36,
     "metadata": {},
     "output_type": "execute_result"
    }
   ],
   "source": [
    "pw12.shape"
   ]
  },
  {
   "cell_type": "code",
   "execution_count": null,
   "metadata": {},
   "outputs": [],
   "source": []
  }
 ],
 "metadata": {
  "kernelspec": {
   "display_name": "Python 3",
   "language": "python",
   "name": "python3"
  },
  "language_info": {
   "codemirror_mode": {
    "name": "ipython",
    "version": 3
   },
   "file_extension": ".py",
   "mimetype": "text/x-python",
   "name": "python",
   "nbconvert_exporter": "python",
   "pygments_lexer": "ipython3",
   "version": "3.8.3"
  },
  "toc": {
   "base_numbering": 1,
   "nav_menu": {},
   "number_sections": true,
   "sideBar": true,
   "skip_h1_title": false,
   "title_cell": "Table of Contents",
   "title_sidebar": "Contents",
   "toc_cell": false,
   "toc_position": {},
   "toc_section_display": true,
   "toc_window_display": false
  }
 },
 "nbformat": 4,
 "nbformat_minor": 4
}
